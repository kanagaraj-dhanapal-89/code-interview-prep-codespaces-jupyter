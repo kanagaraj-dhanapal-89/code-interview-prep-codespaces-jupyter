{
 "cells": [
  {
   "cell_type": "code",
   "execution_count": 10,
   "metadata": {},
   "outputs": [
    {
     "name": "stdout",
     "output_type": "stream",
     "text": [
      "0 0\n",
      "-1 1\n",
      "0 1\n",
      "-1 2\n",
      "0 2\n",
      "-1 3\n",
      "0 3\n",
      "-1 4\n",
      "0 4\n",
      "1 4\n",
      "1 3\n",
      "0 4\n",
      "1 4\n",
      "2 4\n"
     ]
    }
   ],
   "source": [
    "# Python3 program to solve Gold Mine problem\n",
    "def collectGold(gold, x, y, n, m, dp):\n",
    "    print(x,y)\n",
    "    # Base condition.\n",
    "    if ((x < 0) or (x == n) or (y == m)):\n",
    "        return 0\n",
    " \n",
    "    if(dp[x][y] != -1):\n",
    "        return dp[x][y]\n",
    " \n",
    "    # Right upper diagonal\n",
    "    rightUpperDiagonal = collectGold(gold, x - 1, y + 1, n, m, dp)\n",
    "    \n",
    " \n",
    "        # right\n",
    "    right = collectGold(gold, x, y + 1, n, m, dp)\n",
    "    \n",
    " \n",
    "    # Lower right diagonal\n",
    "    rightLowerDiagonal = collectGold(gold, x + 1, y + 1, n, m, dp)\n",
    "    \n",
    "    # Return the maximum and store the value\n",
    "    dp[x][y] = gold[x][y] + max(max(rightUpperDiagonal, rightLowerDiagonal), right)\n",
    "    return dp[x][y]\n",
    "  \n",
    " \n",
    "def getMaxGold(gold,n,m):\n",
    " \n",
    "    maxGold = 0\n",
    "    # Initialize the dp vector\n",
    "    dp = [[-1 for i in range(m)]for j in range(n)]\n",
    "     \n",
    "    for i in range(n):\n",
    " \n",
    "        # Recursive function call for  ith row.\n",
    "        goldCollected = collectGold(gold, i, 0, n, m, dp)  \n",
    "        maxGold = max(maxGold, goldCollected)\n",
    " \n",
    "    return maxGold\n",
    " \n",
    "# Driver Code\n",
    " \n",
    "gold = [ [1, 3, 1, 5],\n",
    "        [2, 2, 4, 1],\n",
    "        [5, 0, 2, 3],\n",
    "        [0, 6, 1, 2] ]\n",
    "m,n = 4,4\n",
    "print(getMaxGold(gold, n, m))"
   ]
  }
 ],
 "metadata": {
  "kernelspec": {
   "display_name": "Python 3",
   "language": "python",
   "name": "python3"
  },
  "language_info": {
   "codemirror_mode": {
    "name": "ipython",
    "version": 3
   },
   "file_extension": ".py",
   "mimetype": "text/x-python",
   "name": "python",
   "nbconvert_exporter": "python",
   "pygments_lexer": "ipython3",
   "version": "3.10.13"
  }
 },
 "nbformat": 4,
 "nbformat_minor": 2
}
